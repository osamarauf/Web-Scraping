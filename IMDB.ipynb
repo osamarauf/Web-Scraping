{
 "cells": [
  {
   "cell_type": "code",
   "execution_count": 5,
   "metadata": {},
   "outputs": [],
   "source": [
    "import requests\n",
    "from bs4 import BeautifulSoup\n",
    "import pandas as pd"
   ]
  },
  {
   "cell_type": "code",
   "execution_count": 6,
   "metadata": {},
   "outputs": [],
   "source": [
    "url = 'https://www.imdb.com/search/title/?year=2021&title_type=feature&'\n",
    "path = 'E:\\Coding\\DataScience\\Datasets\\output.csv'\n",
    "req = requests.get(url)\n",
    "soup = BeautifulSoup(req.text, 'html.parser')"
   ]
  },
  {
   "cell_type": "code",
   "execution_count": 7,
   "metadata": {},
   "outputs": [],
   "source": [
    "movielist = []\n",
    "results = soup.find('div', {'class': 'lister-list'}).find_all('div', {'class': 'lister-item mode-advanced'})\n",
    "\n",
    "for item in results:\n",
    "    movies = {\n",
    "        'Title': item.find('h3', {'class': 'lister-item-header'}).find('a').text.strip('\\n'),\n",
    "        'Rating': item.find('p', {'class': 'text-muted'}).text.strip('\\n'),\n",
    "        'IMDB Rating': item.find('div', {'class': 'ratings-bar'}).find('div', {'class': 'inline-block ratings-imdb-rating'}).text.strip('\\n'),\n",
    "        'Discription': item.select_one(\"div p:nth-of-type(2)\").text.strip('\\n'),\n",
    "        'Votes': item.find('p', {'class': 'sort-num_votes-visible'}).find('span', {'name': 'nv'}).text,\n",
    "    }\n",
    "    movielist.append(movies)"
   ]
  },
  {
   "cell_type": "code",
   "execution_count": 8,
   "metadata": {},
   "outputs": [],
   "source": [
    "movies_df = pd.DataFrame(movielist)\n",
    "movies_df.to_csv(path, index=False)"
   ]
  }
 ],
 "metadata": {
  "interpreter": {
   "hash": "edd32ba2536b7f3658ef67e5459e2dfdabba188d041651d35ec227df612d5b9a"
  },
  "kernelspec": {
   "display_name": "Python 3.10.2 ('minimal_ds')",
   "language": "python",
   "name": "python3"
  },
  "language_info": {
   "codemirror_mode": {
    "name": "ipython",
    "version": 3
   },
   "file_extension": ".py",
   "mimetype": "text/x-python",
   "name": "python",
   "nbconvert_exporter": "python",
   "pygments_lexer": "ipython3",
   "version": "3.10.2"
  },
  "orig_nbformat": 4
 },
 "nbformat": 4,
 "nbformat_minor": 2
}
