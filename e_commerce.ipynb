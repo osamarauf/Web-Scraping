{
 "cells": [
  {
   "cell_type": "code",
   "execution_count": 1,
   "metadata": {},
   "outputs": [],
   "source": [
    "import requests\n",
    "from requests_html import HTMLSession\n",
    "from bs4 import BeautifulSoup\n",
    "import pandas as pd"
   ]
  },
  {
   "cell_type": "code",
   "execution_count": 2,
   "metadata": {},
   "outputs": [],
   "source": [
    "url_ = 'https://www.ebay.com/b/Cell-Phones-Smartphones/9355/bn_320094'\n",
    "headers = {'User-Agent': 'Mozilla/5.0 (Windows NT 10.0; Win64; x64) AppleWebKit/537.36 (KHTML, like Gecko) Chrome/101.0.4951.54 Safari/537.36 Edg/101.0.1210.39'}\n",
    "path = 'E:\\Coding\\DataScience\\Datasets\\ebay.csv'\n",
    "reponse = requests.get(url_, headers=headers)\n",
    "soup = BeautifulSoup(reponse.text, 'html.parser')\n"
   ]
  },
  {
   "cell_type": "code",
   "execution_count": null,
   "metadata": {},
   "outputs": [],
   "source": [
    "data = []\n",
    "for item in soup.find_all('li', class_='s-item'):\n",
    "        title = item.select_one('h3', class_='s-item__title s-item__title--has-tags').text\n",
    "        try:\n",
    "            price = item.select_one('div span', class_='s-item__price').text\n",
    "            tag = item.select_one('div', {'class': 's-item__title-tag'}).text[0:9]\n",
    "        except:\n",
    "            price = '',\n",
    "            tag = '',\n",
    "        link = item.select_one('a', class_='s-item__link').get('href')\n",
    "        data.append({'title': title, 'price': price, 'link': link, 'tag': tag})\n"
   ]
  },
  {
   "cell_type": "code",
   "execution_count": 5,
   "metadata": {},
   "outputs": [],
   "source": [
    "df = pd.DataFrame(data)\n",
    "df.to_csv(path, index=False)"
   ]
  }
 ],
 "metadata": {
  "interpreter": {
   "hash": "49d7528129991418a3d358d42e18e2e0257838c479d8afc37ea829653c0931c4"
  },
  "kernelspec": {
   "display_name": "Python 3.10.2 ('minimal_ds')",
   "language": "python",
   "name": "python3"
  },
  "language_info": {
   "codemirror_mode": {
    "name": "ipython",
    "version": 3
   },
   "file_extension": ".py",
   "mimetype": "text/x-python",
   "name": "python",
   "nbconvert_exporter": "python",
   "pygments_lexer": "ipython3",
   "version": "3.10.2"
  },
  "orig_nbformat": 4
 },
 "nbformat": 4,
 "nbformat_minor": 2
}
